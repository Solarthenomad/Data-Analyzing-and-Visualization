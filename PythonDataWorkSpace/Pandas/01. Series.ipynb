{
 "cells": [
  {
   "cell_type": "markdown",
   "id": "3fa506ed",
   "metadata": {},
   "source": [
    "#Pandas\n",
    "\n",
    "파이썬에서 사용하는 데이터 분석 라이브러리\n",
    "(데이터 시각화는 Matplotlib가 한다.)\n"
   ]
  },
  {
   "cell_type": "code",
   "execution_count": null,
   "id": "06b3727a",
   "metadata": {},
   "outputs": [],
   "source": []
  },
  {
   "cell_type": "code",
   "execution_count": 1,
   "id": "be0e03e9",
   "metadata": {},
   "outputs": [],
   "source": [
    "import pandas as pd"
   ]
  },
  {
   "cell_type": "markdown",
   "id": "b9b6e685",
   "metadata": {},
   "source": [
    "#1.Series\n",
    "1차원 데이터 : 정수, 실수, 문자열 등등 "
   ]
  },
  {
   "cell_type": "markdown",
   "id": "531b7cb0",
   "metadata": {},
   "source": [
    "##Series 객체 생성\n",
    "예시) 1월부터 4월까지 평균 온도 데이터를 아래로 표현하기 : -20, -10, 10, 20"
   ]
  },
  {
   "cell_type": "code",
   "execution_count": 5,
   "id": "0374fc97",
   "metadata": {},
   "outputs": [
    {
     "name": "stdout",
     "output_type": "stream",
     "text": [
      "0   -20\n",
      "1   -10\n",
      "2    10\n",
      "3    20\n",
      "dtype: int64\n"
     ]
    }
   ],
   "source": [
    "tmp = pd.Series([-20, -10, 10, 20])\n",
    "print(tmp)"
   ]
  },
  {
   "cell_type": "code",
   "execution_count": 6,
   "id": "0c575ed9",
   "metadata": {},
   "outputs": [
    {
     "data": {
      "text/plain": [
       "-20"
      ]
     },
     "execution_count": 6,
     "metadata": {},
     "output_type": "execute_result"
    }
   ],
   "source": [
    "tmp[0]   #1월 온도를 출력해주기"
   ]
  },
  {
   "cell_type": "code",
   "execution_count": 8,
   "id": "256deb04",
   "metadata": {},
   "outputs": [
    {
     "data": {
      "text/plain": [
       "10"
      ]
     },
     "execution_count": 8,
     "metadata": {},
     "output_type": "execute_result"
    }
   ],
   "source": [
    "tmp[2]   #3월 온도를 출력해주기 "
   ]
  },
  {
   "cell_type": "markdown",
   "id": "7cd72c16",
   "metadata": {},
   "source": [
    "#Series 객체 생성해주기 + Index 지정해주기까지 해주기 "
   ]
  },
  {
   "cell_type": "code",
   "execution_count": 11,
   "id": "7bd2c925",
   "metadata": {},
   "outputs": [
    {
     "ename": "SyntaxError",
     "evalue": "expression cannot contain assignment, perhaps you meant \"==\"? (2944731090.py, line 1)",
     "output_type": "error",
     "traceback": [
      "\u001b[1;36m  File \u001b[1;32m\"C:\\Users\\trixy\\AppData\\Local\\Temp\\ipykernel_7600\\2944731090.py\"\u001b[1;36m, line \u001b[1;32m1\u001b[0m\n\u001b[1;33m    tmp = pd.Series([-20,-10,10,20]. index  = ['Jan', 'Feb', 'Mar', 'Apr'])\u001b[0m\n\u001b[1;37m                    ^\u001b[0m\n\u001b[1;31mSyntaxError\u001b[0m\u001b[1;31m:\u001b[0m expression cannot contain assignment, perhaps you meant \"==\"?\n"
     ]
    }
   ],
   "source": [
    "tmp = pd.Series([-20,-10,10,20], index  = ['Jan', 'Feb', 'Mar', 'Apr']) "
   ]
  },
  {
   "cell_type": "code",
   "execution_count": 12,
   "id": "1a4c3964",
   "metadata": {},
   "outputs": [
    {
     "name": "stdout",
     "output_type": "stream",
     "text": [
      "Jan   -20\n",
      "Feb   -10\n",
      "Mar    10\n",
      "Apr    20\n",
      "dtype: int64\n"
     ]
    }
   ],
   "source": [
    "print(tmp)"
   ]
  },
  {
   "cell_type": "code",
   "execution_count": 13,
   "id": "454cb90c",
   "metadata": {},
   "outputs": [
    {
     "data": {
      "text/plain": [
       "-20"
      ]
     },
     "execution_count": 13,
     "metadata": {},
     "output_type": "execute_result"
    }
   ],
   "source": [
    "tmp['Jan']    #index Jan에 해당되는 데이터를 출력해준다. "
   ]
  },
  {
   "cell_type": "code",
   "execution_count": null,
   "id": "a0398205",
   "metadata": {},
   "outputs": [],
   "source": []
  }
 ],
 "metadata": {
  "kernelspec": {
   "display_name": "Python 3 (ipykernel)",
   "language": "python",
   "name": "python3"
  },
  "language_info": {
   "codemirror_mode": {
    "name": "ipython",
    "version": 3
   },
   "file_extension": ".py",
   "mimetype": "text/x-python",
   "name": "python",
   "nbconvert_exporter": "python",
   "pygments_lexer": "ipython3",
   "version": "3.9.13"
  }
 },
 "nbformat": 4,
 "nbformat_minor": 5
}
