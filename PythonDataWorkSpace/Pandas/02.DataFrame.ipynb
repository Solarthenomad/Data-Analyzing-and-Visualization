{
 "cells": [
  {
   "cell_type": "markdown",
   "id": "a3f49d96",
   "metadata": {},
   "source": [
    "#2. DataFrame\n",
    "2차원 데이터로, 앞에서 작성한 Series들의 모음이다."
   ]
  },
  {
   "cell_type": "markdown",
   "id": "647806c1",
   "metadata": {},
   "source": [
    "#Data 준비\n",
    "사전 dict 자료구조를 통해서 생성된다. \n",
    "\n",
    "예) 슬램덩크 주요 인물 8명에 대한 데이터Frame 만들기 "
   ]
  },
  {
   "cell_type": "code",
   "execution_count": null,
   "id": "427f150d",
   "metadata": {},
   "outputs": [],
   "source": [
    "data = {\n",
    "    '이름' : ['채치수', '정대만', '송태섭', '서태웅','강백호', '변덕규', '황태산', '윤대형'],\n",
    "    '학교' : ['북산고','북산고','북산고','북산고','북산고','능남고', '능남고', '능남고'],\n",
    "    '키' : [187, 184, 188, 202, 190, 196,178, 190]\n",
    "    '국어' : [90,40,80,15,80,55,100,90]\n",
    "    '영어' : [90, 90, 70, 60,35, 100, 95, 80]\n",
    "    '과학' : [95, 75, 35,45,70,80, 90,100]\n",
    "    '사회' : \n",
    "}"
   ]
  }
 ],
 "metadata": {
  "kernelspec": {
   "display_name": "Python 3 (ipykernel)",
   "language": "python",
   "name": "python3"
  },
  "language_info": {
   "codemirror_mode": {
    "name": "ipython",
    "version": 3
   },
   "file_extension": ".py",
   "mimetype": "text/x-python",
   "name": "python",
   "nbconvert_exporter": "python",
   "pygments_lexer": "ipython3",
   "version": "3.9.13"
  }
 },
 "nbformat": 4,
 "nbformat_minor": 5
}
